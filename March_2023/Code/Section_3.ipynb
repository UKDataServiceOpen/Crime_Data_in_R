{
    "cells": [
        {
            "cell_type": "markdown",
            "metadata": {},
            "source": "\n"
        },
        {
            "cell_type": "code",
            "execution_count": null,
            "metadata": {},
            "outputs": [],
            "source": [
                "knitr::opts_chunk$set(echo = TRUE, eval = TRUE)\n",
                "\n"
            ]
        },
        {
            "cell_type": "markdown",
            "metadata": {},
            "source": [
                "## Intro \n",
                "\n",
                "In this final section we incorporate some census data onto our shapefile so we can calculate and explore the differences between crime rate and crime counts. We then introduce cartograms as an alternative thematic map \n",
                "\n",
                "## Load packages\n",
                "\n",
                "As always the first step is to load the necessary R packages via the library function. If you do not have these packages installed then please follow the instructions in the *Preliminary Task.Rmd* file. \n",
                "\n",
                "## Load Packages\n"
            ]
        },
        {
            "cell_type": "code",
            "execution_count": null,
            "metadata": {},
            "outputs": [],
            "source": [
                "# for data reading/manipulation \n",
                "library(dplyr)\n",
                "library(tidyr)\n",
                "library(readr)\n",
                "library(tibble)\n",
                "library(janitor)\n",
                "# for spatial data and gis\n",
                "library(sf)\n",
                "library(ggmap)\n",
                "library(ggplot2)\n",
                "library(ggspatial)\n",
                "library(ggspatial)\n",
                "library(spdep)\n",
                "library(leaflet) \n",
                "library(RColorBrewer)\n",
                "library(tmap)\n"
            ]
        },
        {
            "cell_type": "markdown",
            "metadata": {},
            "source": [
                "## Read in the population statistics\n",
                "\n",
                "Count data is not entirely accurate of population density. Whilst the code in Section_1 and Section_2 might help us identify interesting patterns, point-level open crime data is rarely used in isolation for detailed analysis. \n",
                "\n",
                "For one thing, the data is points are geomasked. This means that points are highly likely to be overlapped, giving a skewed picture of the distribution. There are ways round this, such as through jittering or applying census based data. To view more information about jittering please view the 'Additional Topic.rmd' file,\n",
                "\n",
                "\n",
                "### Census 2022\n",
                "\n",
                "We will be using the new census 2022 data to calculate the crime rate across both residential population vs working population,\n",
                "\n",
                "The data was downloaded from CKAN which can be accessed from the front page of our website *https://statistics.ukdataservice.ac.uk/dataset/?vocab_Area_type=Lower%20Super%20Output%20Areas*\n",
                "\n",
                "I simply searched for 'residents' and 'work' as I want to calculate the difference in crime counts compared to the usual resident population and then to the usual workday population. Download the super layer output areas and once opened in excel, you can select just the rows that correspond to 'Surrey Heath'.\n",
                "\n",
                "But have no fear if you don't know how to do this or are simply feeling a little lazy (I get it), you can just read in the data that has been cleaned for you in the Data folder. There is more information via the *Dowloading the Data* doc if you are interested in the download process. \n",
                "\n",
                "So lets read in the data and use the clean_names() function again to lowercase and tidy all variable names. \n",
                "\n",
                "We are going to start with just the resident population which is the data set named 'res_count.xlsx'\n"
            ]
        },
        {
            "cell_type": "code",
            "execution_count": null,
            "metadata": {},
            "outputs": [],
            "source": [
                "residential_count <- read_excel(\"~/Documents/Crime_R_Workshop/Crime_Data_in_R/March_2023/Data/census_data/res_count.xlsx\") %>% clean_names() %>%\n",
                "  rename(lsoa = e01030757, #rename the variables \n",
                "         name = surrey_heath_002a, \n",
                "         res_count = x330) \n",
                "\n",
                "head(res_count)\n"
            ]
        },
        {
            "cell_type": "markdown",
            "metadata": {},
            "source": [
                "## Join the data to our new shapefile\n",
                "\n",
                "The next step is to join these new statistics to our previously created shapefile named 'surrey_lsoa\". We do thus by using the left_join() function in the dplyr package and attach them by the same LSOA codes. \n"
            ]
        },
        {
            "cell_type": "code",
            "execution_count": null,
            "metadata": {},
            "outputs": [],
            "source": [
                "surrey_lsoa <- left_join(surrey_lsoa, residential_count, by = c(\"lsoa21cd\"=\"lsoa\"))\n",
                "\n",
                "head(surrey_lsoa)\n"
            ]
        },
        {
            "cell_type": "markdown",
            "metadata": {},
            "source": [
                "Now you will see the census data has merged into the shapefile, Great lets move on to calculating crime rate.\n",
                "\n",
                "\n",
                "\n",
                "## How to calculate the crime rate?\n",
                "\n",
                "A crime rate is calculated by dividing the number of reported crimes by the total population, and then multiplying by 100,000. \n",
                "\n",
                "So for our dataset, we take the count variable, divide by the 'pop' variable (workday or residential), and then times by 1000 (in this instance we use 1000 as this is the average population of an LSOA, if you were using larger UoA you can choose to multiply by 100,000. Just remember what affect this will have on your rate and how this then interprets across your results.\n",
                "\n",
                "In order to work out the crime rate, we need to create a new variable that takes the count/pop*1000. We can use the mutate() function from the dplyr package to calculate this for us. \n"
            ]
        },
        {
            "cell_type": "code",
            "execution_count": null,
            "metadata": {},
            "outputs": [],
            "source": [
                "surrey_lsoa <- surrey_lsoa %>% \n",
                "  mutate(crime_rate = (count/res_count*1000))\n",
                "         \n",
                "head(surrey_lsoa)\n"
            ]
        },
        {
            "cell_type": "markdown",
            "metadata": {},
            "source": [
                "## Now lets explore these trends using ggplot and tmaps;\n",
                "\n",
                "\n",
                "### First ggplot\n"
            ]
        },
        {
            "cell_type": "code",
            "execution_count": null,
            "metadata": {},
            "outputs": [],
            "source": [
                "ggplot() + \n",
                "  annotation_map_tile() + \n",
                "  geom_sf(data = surrey_lsoa, aes(fill = crime_rate), alpha = 0.5) + \n",
                "  scale_fill_gradient2(name =\"Crime Rate\")\n"
            ]
        },
        {
            "cell_type": "markdown",
            "metadata": {},
            "source": [
                "### What about tmaps \n",
                "\n"
            ]
        },
        {
            "cell_type": "code",
            "execution_count": null,
            "metadata": {},
            "outputs": [],
            "source": [
                "tm_shape(surrey_lsoa) + \n",
                "  tm_fill(\"crime_rate\", style = \"quantile\") + \n",
                "  tm_borders(alpha = 0.3)\n"
            ]
        },
        {
            "cell_type": "markdown",
            "metadata": {},
            "source": [
                "## Cartograms and ggplot\n",
                "\n",
                "A cartogram is a type of map where different geographic areas are modified based on a variable associated to those areas. There are two two types of cartograms: contiguous vs non-contiguous (sharing a common border). \n",
                "\n",
                "The cartogram package allows to build cartograms in R. It requires a geospatial object as input, with a numeric variable in the data slot. This variable will be used to distort region shape.\n"
            ]
        },
        {
            "cell_type": "code",
            "execution_count": null,
            "metadata": {},
            "outputs": [],
            "source": [
                "library(cartogram)\n",
                "\n",
                "#In our data set we have a variable “pop_count_wrk” which refers to the total number of people in our LSOA \n",
                "cart <- cartogram_cont(surrey_lsoa, weight = \"pop_count_wrk\") \n",
                "\n",
                "\n",
                "## simple plot \n",
                "ggplot(cart) + \n",
                "  geom_sf()\n",
                "\n",
                "\n",
                "## fill with our count variable \n",
                "ggplot(cart) + \n",
                "  geom_sf(aes(fill = pop_count_wrk))\n",
                "\n",
                "\n",
                "## add in some aesthetics \n",
                "ggplot(cart) + \n",
                "  geom_sf(aes(fill = pop_count_wrk), \n",
                "          color = \"gray50\", \n",
                "          linetype = 1, \n",
                "          lwd = 0.35) + \n",
                "  scale_fill_gradientn(colours = heat.colors(n =10, \n",
                "                                            alpha = 0.5, \n",
                "                                            rev = TRUE)) + \n",
                "  theme_gray() + \n",
                "  labs(title = \"Surrey Heath: Population by LSOA\", \n",
                "       subtitle = \"August 2020\")\n"
            ]
        },
        {
            "cell_type": "markdown",
            "metadata": {},
            "source": [
                "## Activity 3\n",
                "\n",
                "We have succesfully mapped theresidential population, now lets do the same with the variable workday (economic activity). First step is to read and clean the data as seen here:\n"
            ]
        },
        {
            "cell_type": "code",
            "execution_count": null,
            "metadata": {},
            "outputs": [],
            "source": [
                "workday_count <- read_excel(\"~/Documents/Crime_R_Workshop/Crime_Data_in_R/March_2023/Data/census_data/work_count.xlsx\") %>% clean_names() %>%\n",
                "  rename(lsoa = e01030757, #rename the variables \n",
                "         name = surrey_heath_002a, \n",
                "         work_count = x330) \n",
                "\n",
                "  \n",
                "head(workday_count)  \n"
            ]
        },
        {
            "cell_type": "markdown",
            "metadata": {},
            "source": [
                "And then remember you need to join this to our shapefile by using the left join function.\n",
                "\n"
            ]
        },
        {
            "cell_type": "code",
            "execution_count": null,
            "metadata": {},
            "outputs": [],
            "source": [
                "surrey_lsoa <- left_join(surrey_lsoa, workday_count, by = c(\"lsoa21cd\"=\"lsoa\"))\n",
                "\n",
                "head(surrey_lsoa)\n"
            ]
        },
        {
            "cell_type": "markdown",
            "metadata": {},
            "source": [
                "So now you've added the work population count, it time to calculate the crime run. Follow the steps below to try and complete the activity. \n",
                "\n",
                "\n",
                "Steps: \n",
                "\n",
                "1  First calculate the crime rate \n",
                "2. Plot using ggplot \n",
                "3. Plot using tmap \n",
                "4. Plot both maps (residential and workday) together using tmap_arrange \n",
                "5. Plot a cartogram of residential population\n",
                "\n",
                "Is there a difference between the crime rate when using workday population compared to residential population? Would we expect to see these trends?\n"
            ]
        },
        {
            "cell_type": "code",
            "execution_count": null,
            "metadata": {},
            "outputs": [],
            "source": [
                "# 1) First calculate the crime rate, assign it a new variable and named it crimerate2\n",
                "\n",
                "surrey_lsoa <- surrey_lsoa %>% \n",
                "  mutate(crime_rate2 = (count/......)*...)\n",
                "\n",
                "\n",
                "#2) Plot using ggplot \n",
                "\n",
                "ggplot() + \n",
                "  annotation_map_tile() + \n",
                "  geom_sf(data = ....., aes(fill = ......), alpha = 0.5) + \n",
                "  scale_fill_gradient2(name =\"Crime Rate\")\n",
                "\n",
                "\n",
                "#3) Plot using tmap \n",
                "\n",
                "tm_shape(surrey_lsoa) + \n",
                "  tm_fill(....., style = \"quantile\") + \n",
                "  tm_borders(alpha = 0.3)\n",
                "\n",
                "\n",
                "#4) Compare the workday vs residential population \n",
                "\n",
                "e <- tm_shape(surrey_lsoa) + \n",
                "  tm_fill(....., style = \"quantile\", title = \"Workday Pop\") + \n",
                "  tm_borders(alpha = 0.3)\n",
                "\n",
                "f <- tm_shape(surrey_lsoa) + \n",
                "  tm_fill(....., style = \"quantile\", title = \"Residential pop\") + \n",
                "  tm_borders(alpha = 0.3)\n",
                "\n",
                "\n",
                "tmap_arrange(...., .....)\n",
                "\n",
                "\n",
                "\n",
                "#5) Cartogram\n",
                "\n",
                "ggplot(.....) + \n",
                "  geom_sf(aes(fill = ......), \n",
                "          color = \"gray50\", \n",
                "          linetype = 1, \n",
                "          lwd = 0.35) + \n",
                "  scale_fill_gradientn(colours = heat.colors(n =10, \n",
                "                                            alpha = 0.5, \n",
                "                                            rev = TRUE)) + \n",
                "  theme_gray() + \n",
                "  labs(title = \"Surrey Heath: Population by LSOA\", \n",
                "       subtitle = \"August 2020\")\n"
            ]
        },
        {
            "cell_type": "markdown",
            "metadata": {},
            "source": [
                " \n",
                "\n"
            ]
        }
    ],
    "metadata": {
        "anaconda-cloud": "",
        "kernelspec": {
            "display_name": "R",
            "langauge": "R",
            "name": "ir"
        },
        "language_info": {
            "codemirror_mode": "r",
            "file_extension": ".r",
            "mimetype": "text/x-r-source",
            "name": "R",
            "pygments_lexer": "r",
            "version": "3.4.1"
        }
    },
    "nbformat": 4,
    "nbformat_minor": 1
}
