{
    "cells": [
        {
            "cell_type": "markdown",
            "metadata": {},
            "source": [
                "# Prerequisite \n",
                "\n",
                "This workshop is suitable for those beginner to intermediate in R. It requires you know how to set your working directory and how to read data into R.\n",
                "\n",
                "Using open source police recorded crime statistics this workshop will demonstrate how to map crime data in R using sf and ggplot. More specifically looking at the area of Surrey we will \n",
                "\n",
                "  1) briefly explore the crime data and introduce key topics in spatial data\n",
                "  2) demonstrate how to join crime data to shapefiles and how to map data \n",
                "  3) identify how to map and calculate crime rate \n",
                "\n",
                "The datasets needed in this workshop include crime data, population statistics and shapefiles. Information on how to download these will be available in the R file names *downloading the data* but feel free to obtain these via git *https://github.com/UKDataServiceOpen/Crime_Data_in_R*. Ensure these are loaded into your environment before starting the workshop\n",
                "\n",
                "\n",
                "\n",
                "## Set your working directory \n",
                "\n",
                "The working directory is just a file path on your computer that sets the default location of any files you read into R, or save out of R. You need to set your current working directory in order to follow along with this workshop, You can read more about working directories here  *https://bookdown.org/ndphillips/YaRrr/the-working-directory.html* \n",
                "\n",
                "You can use the *setwd()* function to set your current working directory, and the *getwd()* function to print your current working directory. \n",
                "\n",
                "I would suggest however, creating an R project with a version control repository. This will allow you to work with the complete set of code provided. To do so follow these steps from the task menu found at the top left of your RStudio;\n",
                "\n",
                "File -> new project -> version control -> click git -> paste the github link in the ''repository url' box  *(https://github.com/UKDataServiceOpen/Crime_Data_in_R.git)* -> give your project directory a name -> tick open in new session -> click create new project.\n",
                "\n",
                "Perfect! Now you can work along side me as I go through the various markdown files. \n",
                "\n",
                "\n",
                "## Install and load the packages required for this workshop\n",
                "\n",
                "Below are a list of packages that need to be installed and loaded into your version of RStudio. To install a package use the function *install.packages(\"...\")* - the quotation marks around the package names are essential. \n",
                "\n",
                "Once installed you then need to load the packages which can be down via the *library(...)* function - the quotation marks here are not essential. \n"
            ]
        },
        {
            "cell_type": "code",
            "execution_count": null,
            "metadata": {},
            "outputs": [],
            "source": [
                "knitr::opts_chunk$set(echo = TRUE)\n",
                "\n",
                "## Install packages \n",
                "\n",
                "install.packages(\"dplyr\")\n",
                "install.packages(\"tidyr\")\n",
                "install.packages(\"readr\")\n",
                "install.packages(\"tibble\")\n",
                "install.packages(\"janitor\")\n",
                "install.packages(\"sf\")\n",
                "install.packages(\"ggmap\")\n",
                "install.packages(\"ggplot2\")\n",
                "install.packages(\"ggspatial\")\n",
                "install.packages(\"spdep\")\n",
                "install.packages(\"leaflet\")\n",
                "install.packages(\"RColorBrewer\")\n",
                "install.packages(\"tmap\")\n",
                "install.packages(\"cartogram\")\n",
                "\n",
                "\n",
                "## Load packages\n",
                "\n",
                "# for data reading/manipulation \n",
                "library(dplyr)\n",
                "library(tidyr)\n",
                "library(readr)\n",
                "library(tibble)\n",
                "library(janitor)\n",
                "# for spatial data and gis\n",
                "library(sf)\n",
                "library(ggmap)\n",
                "library(ggplot2)\n",
                "library(ggspatial)\n",
                "library(spdep)\n",
                "library(leaflet) \n",
                "library(RColorBrewer)\n",
                "library(tmap)\n",
                "library(cartogram)\n"
            ]
        },
        {
            "cell_type": "markdown",
            "metadata": {},
            "source": [
                "## Connecting GitHub and R (extra step)\n",
                "\n",
                "In order to clone a repository from Github you might be asked to set up a PAT (personal authentication token), if so follow these simple instructions from this link. *https://happygitwithr.com/https-pat.html*. (Do not share this token with anyone, it is a unique password for your Github account)\n",
                "\n",
                "In summary: \n"
            ]
        },
        {
            "cell_type": "code",
            "execution_count": null,
            "metadata": {},
            "outputs": [],
            "source": [
                "usethis::create_github_token()\n",
                "\n",
                "gitcreds::gitcreds_set()\n",
                "#and then enter your token \n"
            ]
        },
        {
            "cell_type": "markdown",
            "metadata": {},
            "source": [
                "\n",
                "\n"
            ]
        }
    ],
    "metadata": {
        "anaconda-cloud": "",
        "kernelspec": {
            "display_name": "R",
            "langauge": "R",
            "name": "ir"
        },
        "language_info": {
            "codemirror_mode": "r",
            "file_extension": ".r",
            "mimetype": "text/x-r-source",
            "name": "R",
            "pygments_lexer": "r",
            "version": "3.4.1"
        }
    },
    "nbformat": 4,
    "nbformat_minor": 1
}
