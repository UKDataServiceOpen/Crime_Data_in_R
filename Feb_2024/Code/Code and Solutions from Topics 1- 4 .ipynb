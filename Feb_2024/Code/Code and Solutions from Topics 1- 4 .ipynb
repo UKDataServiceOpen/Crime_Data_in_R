{
    "cells": [
        {
            "cell_type": "markdown",
            "metadata": {},
            "source": [
                "## Load Packages\n",
                "\n"
            ]
        },
        {
            "cell_type": "code",
            "execution_count": null,
            "metadata": {},
            "outputs": [],
            "source": [
                "knitr::opts_chunk$set(echo = TRUE)\n",
                "\n",
                "# for data reading/manipulation \n",
                "library(dplyr)\n",
                "library(tidyr)\n",
                "library(readr)\n",
                "library(tibble)\n",
                "library(janitor)\n",
                "# for spatial data and gis\n",
                "library(sf)\n",
                "library(ggmap)\n",
                "library(ggplot2)\n",
                "library(ggspatial)\n",
                "library(ggspatial)\n",
                "library(spdep)\n",
                "library(leaflet) \n",
                "library(RColorBrewer)\n",
                "library(tmap)\n"
            ]
        },
        {
            "cell_type": "markdown",
            "metadata": {},
            "source": [
                "# Prerequisite \n",
                "\n",
                "This workshop is suitable for those beginner to intermediate in R. It requires you know how to set your working directory, how to read data into R.\n",
                "\n",
                "Using open source police recorded crime statistics this workshop will demonstrate how to map crime data in R using sf and ggplot. More specifically looking at the area of Surrey we will \n",
                "\n",
                "  1) briefly explore the crime data and introduce key topics in spatial data\n",
                "  2) demonstrate how to join crime data to shapefiles and how to map data \n",
                "  3) identify how to map and calculate crime rate \n",
                "\n",
                "\n",
                "The datasets needed in this workshop include crime data, population statistics and shapefiles. Information on how to download these will be available in R file names 'downloading the data' but feel free to obtain these via git *add link*. Ensure these are loaded into your environment before starting the workshop\n",
                "\n",
                "\n",
                "# Section 1: - Introduction to the crime data\n",
                "\n",
                "## Downloading the crime data \n"
            ]
        },
        {
            "cell_type": "code",
            "execution_count": null,
            "metadata": {},
            "outputs": [],
            "source": [
                "library(readr)\n",
                "crime <- read_csv(\"~/Documents/Crime_R_Workshop/Crime_Data_in_R/March_2023/Data/crime_data/2022-02/2022-02-surrey-street.csv\") %>% janitor::clean_names()\n"
            ]
        },
        {
            "cell_type": "markdown",
            "metadata": {},
            "source": [
                "## Explatory analysis\n",
                "\n"
            ]
        },
        {
            "cell_type": "code",
            "execution_count": null,
            "metadata": {},
            "outputs": [],
            "source": [
                "unique(crime$crime_type)\n",
                "\n"
            ]
        },
        {
            "cell_type": "markdown",
            "metadata": {},
            "source": "\n"
        },
        {
            "cell_type": "code",
            "execution_count": null,
            "metadata": {},
            "outputs": [],
            "source": [
                "counts = table(crime$crime_type)\n",
                "\n",
                "counts = counts[order(counts, decreasing=T)]\n",
                "\n",
                "print(counts[1:10])\n"
            ]
        },
        {
            "cell_type": "markdown",
            "metadata": {},
            "source": "\n"
        },
        {
            "cell_type": "code",
            "execution_count": null,
            "metadata": {},
            "outputs": [],
            "source": [
                "par(mar = c(5,10,1,1))\n",
                "\n",
                "y = barplot(counts[1:10], horiz=T, las=1, cex.names=0.7, col=\"whitesmoke\")\n",
                " \n",
                "text(1000, y, counts[1:10], pos=4, cex=0.8)\n"
            ]
        },
        {
            "cell_type": "markdown",
            "metadata": {},
            "source": "\n"
        },
        {
            "cell_type": "code",
            "execution_count": null,
            "metadata": {},
            "outputs": [],
            "source": [
                "## Simple Features and Projection methods\n",
                "st_crs(crime)   # to check the crs\n",
                "\n",
                "sf <- st_as_sf(crime,                                \n",
                "                      coords = c(\"longitude\", \"latitude\"),\n",
                "                      crs = 4326, \n",
                "                      na.fail = FALSE)\n",
                "st_crs(sf)\n"
            ]
        },
        {
            "cell_type": "markdown",
            "metadata": {},
            "source": [
                "## Mapping point data \n",
                "\n"
            ]
        },
        {
            "cell_type": "code",
            "execution_count": null,
            "metadata": {},
            "outputs": [],
            "source": [
                "#### Plot the point data\n",
                "ggplot() + \n",
                "  geom_sf(data = sf)\n",
                "\n",
                "\n",
                "#### Colour the different crime type\n",
                "ggplot() + \n",
                "  geom_sf(data = sf, aes(fill = crime_type, col = crime_type)) + \n",
                "  labs(title = \"Crime Count in Surrey\", \n",
                "       subtitle = \"January 2019\", \n",
                "       caption = \"Police Recorded Crime Statistics\")\n",
                "\n",
                "\n",
                "#### Reference map \n",
                "ggplot() + \n",
                "  annotation_map_tile() +\n",
                "  geom_sf(data = sf)\n",
                "\n",
                "\n",
                "#### Sub-setting for just ASB \n",
                "asb <- subset(sf, crime_type == \"Anti-social behaviour\") %>% \n",
                "  select(-c(1, 9, 10))\n",
                "\n",
                "ggplot() +\n",
                "  annotation_map_tile() +\n",
                "  geom_sf(data = asb)\n"
            ]
        },
        {
            "cell_type": "markdown",
            "metadata": {},
            "source": [
                "### Activity 1\n",
                "\n",
                "How does this compare to the crime_type 'drugs'?\n",
                "\n",
                "Steps; \n",
                "1. Subset the data for the those crime types recorded as 'drugs', \n",
                "2. create this into a new object like we did for ASB and name it 'drugs' \n",
                "3. Using ggplot plot the point data over a base map (reference map)\n"
            ]
        },
        {
            "cell_type": "code",
            "execution_count": null,
            "metadata": {},
            "outputs": [],
            "source": [
                "## Solution \n",
                "\n",
                "drugs <- subset(sf, crime_type == \"Drugs\") %>%  \n",
                "  select(-c(1, 9, 10))      #this line is not necessary but helps to neaten your data as we are removing the columns that are not of interest\n",
                "\n",
                "ggplot() +\n",
                "  annotation_map_tile() +\n",
                "  geom_sf(data = drugs) \n"
            ]
        },
        {
            "cell_type": "markdown",
            "metadata": {},
            "source": [
                "\\newpage \n",
                "\n",
                "\n",
                "# Section 2: - Shapefiles \n",
                "\n",
                "## Read in the Shapefile for 'Surrey Heath' \n"
            ]
        },
        {
            "cell_type": "code",
            "execution_count": null,
            "metadata": {},
            "outputs": [],
            "source": [
                "shp_file <- sf::st_read(\"~/Documents/Crime_R_Workshop/Crime_Data_in_R/March_2023/Data/Shapefile/england_lsoa_2021.shp\")\n",
                "\n",
                "## Plot the Shapefile \n",
                "ggplot() + \n",
                "  geom_sf(data = shp_file)\n"
            ]
        },
        {
            "cell_type": "markdown",
            "metadata": {},
            "source": [
                "## Group the crimes\n",
                "\n"
            ]
        },
        {
            "cell_type": "code",
            "execution_count": null,
            "metadata": {},
            "outputs": [],
            "source": [
                "crimes_grouped_by_lsoa <- crime %>%\n",
                "  group_by(lsoa_code) %>%\n",
                "  summarise(count=n())\n"
            ]
        },
        {
            "cell_type": "markdown",
            "metadata": {},
            "source": [
                "## Merge the shapefile to the crime dataset\n",
                "\n"
            ]
        },
        {
            "cell_type": "code",
            "execution_count": null,
            "metadata": {},
            "outputs": [],
            "source": [
                "surrey_lsoa <- left_join(shp_file, crimes_grouped_by_lsoa, by = c(\"lsoa21cd\" = \"lsoa_code\"))\n",
                "\n",
                "st_geometry_type(surrey_lsoa)    #view the geometery type \n",
                "st_bbox(surrey_lsoa)             #obtains the objects value as specific units \n",
                "\n",
                "#The spatial extent of a shapefile or R spatial object represents the geographic “edge” or location that is the #furthest north, south east and west. Thus is represents the overall geographic coverage of the spatial object. #Image Source: National Ecological Observatory Network (NEON).\n",
                "\n",
                "\n",
                "#map the data\n",
                "ggplot() + \n",
                "  annotation_map_tile() + \n",
                "  geom_sf(data = surrey_lsoa, aes(fill = count), alpha = 0.5) + \n",
                "  scale_fill_gradient2(name =\"Number of crimes\")\n"
            ]
        },
        {
            "cell_type": "markdown",
            "metadata": {},
            "source": [
                "## Plotting via the 'tmap' package\n",
                "\n"
            ]
        },
        {
            "cell_type": "code",
            "execution_count": null,
            "metadata": {},
            "outputs": [],
            "source": [
                "library(tmap)\n",
                "tm_shape(surrey_lsoa) + \n",
                "  tm_fill(\"count\") + \n",
                "  tm_borders(alpha = 0.5)\n"
            ]
        },
        {
            "cell_type": "markdown",
            "metadata": {},
            "source": [
                "## Clasification methods\n",
                "\n",
                "How can we better visualise counts? Count data does not equally represent the population distribution at hand, tmaps allows you to add different 'styles' \n",
                "\n",
                "The different styles result in different clustering mechanism, tmaps have available on 'jenks'or 'Standard Deviation' \n",
                "\n",
                "\n",
                "In this example I've used 'kmeans'. k-means clustering is a method of vector quantisation, originally from signal processing, that aims to partition n observations into k clusters in which each observation belongs to the cluster with the nearest mean, serving as a prototype of the cluster.\n"
            ]
        },
        {
            "cell_type": "code",
            "execution_count": null,
            "metadata": {},
            "outputs": [],
            "source": [
                "tm_shape(surrey_lsoa) + \n",
                "  tm_fill(\"count\", style = \"kmeans\") + \n",
                "  tm_borders(alpha = 0.3)\n",
                "\n",
                "tm_shape(surrey_lsoa) + \n",
                "  tm_fill(\"count\", style = \"jenks\") + \n",
                "  tm_borders(alpha = 0.3)\n",
                "\n",
                "tm_shape(surrey_lsoa) + \n",
                "  tm_fill(\"count\", style = \"sd\") + \n",
                "  tm_borders(alpha = 0.3)\n"
            ]
        },
        {
            "cell_type": "markdown",
            "metadata": {},
            "source": [
                "## Map Layouts - additional features of tmap (optional task)\n",
                "\n"
            ]
        },
        {
            "cell_type": "code",
            "execution_count": null,
            "metadata": {},
            "outputs": [],
            "source": [
                "## map style \n",
                "\n",
                "tm_shape(surrey_lsoa) + \n",
                "  tm_fill(\"count\", style = \"sd\") + \n",
                "  tm_borders(alpha = 0.3) + \n",
                "  tmap_style(\"col_blind\")\n",
                "\n",
                "\n",
                "## map legends\n",
                "\n",
                "tm_shape(surrey_lsoa)+\n",
                "  tm_fill(\"count\", \n",
                "          style = \"quantile\", \n",
                "          palette = \"Blues\", \n",
                "          legend.hist = TRUE, \n",
                "          legend.is.portrait = TRUE,\n",
                "          legend.hist.z = 0.1) +\n",
                "  tm_layout(legend.height = 0.45, \n",
                "            legend.width = 0.35,\n",
                "            legend.outside = FALSE,\n",
                "            legend.position = c(\"right\", \"bottom\"),\n",
                "            frame = FALSE) +\n",
                "  tm_borders(alpha = 0.5)\n",
                "\n",
                "\n",
                "## compass, scale bar and grid\n",
                "\n",
                "tm_shape(surrey_lsoa)+\n",
                "  tm_fill(\"count\", \n",
                "          style = \"quantile\", \n",
                "          palette = \"Blues\", \n",
                "          legend.hist = TRUE, \n",
                "          legend.is.portrait = TRUE,\n",
                "          legend.hist.z = 0.1) +\n",
                "  tm_layout(legend.height = 0.45, \n",
                "            legend.width = 0.35,\n",
                "            legend.outside = FALSE,\n",
                "            legend.position = c(\"right\", \"bottom\"),\n",
                "            frame = FALSE) +\n",
                "  tm_borders(alpha = 0.5) +\n",
                "  tm_compass(type=\"8star\", size = 2) +   #compass \n",
                "  tm_scale_bar(width = 0.15) +           #scale bar \n",
                "  tm_grid()                              #grid\n"
            ]
        },
        {
            "cell_type": "markdown",
            "metadata": {},
            "source": [
                "## using categorical variables (tm_facets)\n",
                "\n"
            ]
        },
        {
            "cell_type": "code",
            "execution_count": null,
            "metadata": {},
            "outputs": [],
            "source": [
                "tm_shape(surrey_lsoa) +\n",
                "  tm_fill(\"count\",\n",
                "          style = \"quantile\",\n",
                "          palette = \"Blues\",\n",
                "          thres.poly = 0) + \n",
                "  tm_facets(by=\"name\", \n",
                "            free.coords=TRUE, \n",
                "            drop.shapes=TRUE) +\n",
                "  tm_layout(legend.show = FALSE,\n",
                "            title.position = c(\"center\", \"center\"), \n",
                "            title.size = 20) +\n",
                "  tm_borders(alpha = 0.5)\n"
            ]
        },
        {
            "cell_type": "markdown",
            "metadata": {},
            "source": [
                "## Activity 2 \n",
                "\n",
                "1. Explore some of the different classification methods such as \"bclust\"\n",
                "   To get help on the different methods available use *??tmap-package* or search in the help tab \n",
                "   \n",
                "\n",
                "2. Assign your new bclust and hclust classification maps into separate objects (call them \"h\" and \"b\" and plot them together using tmap_arrange()\n",
                "\n",
                "\n",
                "3. Plot an interactive map using the \"bclust\" classification method by changing the command in the tmap_mode() function \n"
            ]
        },
        {
            "cell_type": "code",
            "execution_count": null,
            "metadata": {},
            "outputs": [],
            "source": [
                "##solution\n",
                "\n",
                "#1\n",
                "\n",
                "h <- tm_shape(surrey_lsoa) + \n",
                "  tm_fill(\"count\", style = \"bclust\") + \n",
                "  tm_borders(alpha = 0.3)\n",
                "\n",
                "\n",
                "b <- tm_shape(surrey_lsoa) + \n",
                "  tm_fill(\"count\", style = \"hclust\") + \n",
                "  tm_borders(alpha = 0.3)\n",
                "\n",
                "\n",
                "#2) \n",
                "\n",
                "\n",
                "tmap_arrange(h, b)\n",
                "\n",
                "\n",
                "\n",
                "#3) \n",
                "\n",
                "tmap_mode(\"view\")\n",
                "\n",
                "\n",
                "tm_shape(surrey_lsoa) + \n",
                "  tm_fill(\"count\", style = \"bclust\") + \n",
                "  tm_borders(alpha = 0.3)\n"
            ]
        },
        {
            "cell_type": "markdown",
            "metadata": {},
            "source": [
                "# Section 3: - Crime Rate vs Crime Count \n",
                "\n"
            ]
        },
        {
            "cell_type": "code",
            "execution_count": null,
            "metadata": {},
            "outputs": [],
            "source": [
                "residential_count <- read_excel(\"~/Documents/Crime_R_Workshop/Crime_Data_in_R/March_2023/Data/census_data/res_count.xlsx\") %>% clean_names() %>%\n",
                "  rename(lsoa = e01030757, #rename the variables \n",
                "         name = surrey_heath_002a, \n",
                "         res_count = x330) \n",
                "\n",
                "head(res_count)\n"
            ]
        },
        {
            "cell_type": "markdown",
            "metadata": {},
            "source": [
                "## Join the data to our new shapefile\n",
                "\n"
            ]
        },
        {
            "cell_type": "code",
            "execution_count": null,
            "metadata": {},
            "outputs": [],
            "source": [
                "surrey_lsoa <- left_join(surrey_lsoa, pop, by = c(\"lsoa21cd\"=\"lsoa\"))\n",
                "\n"
            ]
        },
        {
            "cell_type": "markdown",
            "metadata": {},
            "source": [
                "## How to calculate the crime rate?\n",
                "\n"
            ]
        },
        {
            "cell_type": "code",
            "execution_count": null,
            "metadata": {},
            "outputs": [],
            "source": [
                "surrey_lsoa <- surrey_lsoa %>% \n",
                "  mutate(crime_rate = (count/res_count*1000))\n",
                "\n",
                "head(surrey_lsoa)\n"
            ]
        },
        {
            "cell_type": "markdown",
            "metadata": {},
            "source": [
                "##ggplot\n",
                "\n"
            ]
        },
        {
            "cell_type": "code",
            "execution_count": null,
            "metadata": {},
            "outputs": [],
            "source": [
                "ggplot() + \n",
                "  annotation_map_tile() + \n",
                "  geom_sf(data = surrey_lsoa, aes(fill = crime_rate), alpha = 0.5) + \n",
                "  scale_fill_gradient2(name =\"Crime Rate\")\n"
            ]
        },
        {
            "cell_type": "markdown",
            "metadata": {},
            "source": [
                "##tmaps \n",
                "\n"
            ]
        },
        {
            "cell_type": "code",
            "execution_count": null,
            "metadata": {},
            "outputs": [],
            "source": [
                "tm_shape(surrey_lsoa) + \n",
                "  tm_fill(\"crime_rate\", style = \"quantile\") + \n",
                "  tm_borders(alpha = 0.3)\n"
            ]
        },
        {
            "cell_type": "markdown",
            "metadata": {},
            "source": [
                "## Cartograms and ggplot\n",
                "\n"
            ]
        },
        {
            "cell_type": "code",
            "execution_count": null,
            "metadata": {},
            "outputs": [],
            "source": [
                "library(cartogram)\n",
                "\n",
                "#In our data set we have a variable “pop_count” which refers to the total number of people in our LSOA \n",
                "\n",
                "cart <- cartogram_cont(surrey_lsoa, weight = \"pop_count_wrk\")   \n",
                "\n",
                "## simple plot \n",
                "ggplot(cart) + \n",
                "  geom_sf()\n",
                "\n",
                "## fill with our count variable \n",
                "ggplot(cart) + \n",
                "  geom_sf(aes(fill = pop_count_wrk))\n",
                "\n",
                "## add in some aesthetics \n",
                "ggplot(cart) + \n",
                "  geom_sf(aes(fill = pop_count_wrk), \n",
                "          color = \"gray50\", \n",
                "          linetype = 1, \n",
                "          lwd = 0.35) + \n",
                "  scale_fill_gradientn(colours = heat.colors(n =10, \n",
                "                                            alpha = 0.5, \n",
                "                                            rev = TRUE)) + \n",
                "  theme_gray() + \n",
                "  labs(title = \"Surrey Heath: Population by LSOA\", \n",
                "       subtitle = \"August 2020\")\n"
            ]
        },
        {
            "cell_type": "markdown",
            "metadata": {},
            "source": [
                "## Activity 3 - Solution\n",
                "\n"
            ]
        },
        {
            "cell_type": "code",
            "execution_count": null,
            "metadata": {},
            "outputs": [],
            "source": [
                "workday_count <- read_excel(\"~/Documents/Crime_R_Workshop/Crime_Data_in_R/March_2023/Data/census_data/work_count.xlsx\") %>% clean_names() %>%\n",
                "  rename(lsoa = e01030757, #rename the variables \n",
                "         name = surrey_heath_002a, \n",
                "         work_count = x330) \n",
                "\n",
                "  \n",
                "head(workday_count)  \n"
            ]
        },
        {
            "cell_type": "markdown",
            "metadata": {},
            "source": "\n"
        },
        {
            "cell_type": "code",
            "execution_count": null,
            "metadata": {},
            "outputs": [],
            "source": [
                "surrey_lsoa <- left_join(surrey_lsoa, workday_count, by = c(\"lsoa21cd\"=\"lsoa\"))\n",
                "\n",
                "head(surrey_lsoa)\n"
            ]
        },
        {
            "cell_type": "markdown",
            "metadata": {},
            "source": [
                "\n",
                "\n"
            ]
        },
        {
            "cell_type": "code",
            "execution_count": null,
            "metadata": {},
            "outputs": [],
            "source": [
                "# 1) First calculate the crime rate, assign it a new variable and named it crimerate2\n",
                "\n",
                "surrey_lsoa <- surrey_lsoa %>% \n",
                "  mutate(crime_rate2 = (count/pop_count_res)*1000)\n",
                "\n",
                "\n",
                "#2) Plot using ggplot \n",
                "\n",
                "ggplot() + \n",
                "  annotation_map_tile() + \n",
                "  geom_sf(data = surrey_lsoa, aes(fill = crime_rate2), alpha = 0.5) + \n",
                "  scale_fill_gradient2(name =\"Crime Rate\")\n",
                "\n",
                "\n",
                "#3) Plot using tmap \n",
                "\n",
                "tm_shape(surrey_lsoa) + \n",
                "  tm_fill(\"crime_rate\", style = \"quantile\") + \n",
                "  tm_borders(alpha = 0.3)\n",
                "\n",
                "\n",
                "#4) Compare the workday vs residential population \n",
                "\n",
                "e <- tm_shape(surrey_lsoa) + \n",
                "  tm_fill(\"crime_rate\", style = \"quantile\", title = \"Workday Pop\") + \n",
                "  tm_borders(alpha = 0.3)\n",
                "\n",
                "f <- tm_shape(surrey_lsoa) + \n",
                "  tm_fill(\"crime_rate2\", style = \"quantile\", title = \"Residential pop\") + \n",
                "  tm_borders(alpha = 0.3)\n",
                "\n",
                "\n",
                "tmap_arrange(e, f)\n",
                "\n",
                "\n",
                "#5) Cartogram\n",
                "\n",
                "ggplot(cart) + \n",
                "  geom_sf(aes(fill = pop_count_res), \n",
                "          color = \"gray50\", \n",
                "          linetype = 1, \n",
                "          lwd = 0.35) + \n",
                "  scale_fill_gradientn(colours = heat.colors(n =10, \n",
                "                                            alpha = 0.5, \n",
                "                                            rev = TRUE)) + \n",
                "  theme_gray() + \n",
                "  labs(title = \"Surrey Heath: Population by LSOA\", \n",
                "       subtitle = \"August 2020\")\n"
            ]
        },
        {
            "cell_type": "markdown",
            "metadata": {},
            "source": [
                " \n",
                "\n",
                "\n",
                "\n",
                "\n",
                "\n",
                "\n",
                "\n",
                "# Topic 4 - Additional Material\n",
                "\n",
                "\n",
                "## Explore the data using ggmap and ggplot (Google API)\n",
                "\n",
                "The basic idea driving ggmap is to take a downloaded map image, plot it as a context layer using ggplot2, and then plot additional content layers of data, statistics, or models on top of the map. In ggmap, downloading a map as an image and formatting the image for plotting is done with the get_map function. More specifically, the get_map is a wrapper function\n",
                "\n",
                "It is important to note that when using ggmap, users have to first setup an account with Google, enable the relevant API, and then tell R about the user's setup. Do not worry about doing this for this workshop as we will demonstrate the code below. If you would like to run this in your own time then please refer to the steps in 'Google_API.rmd' which details how to obtain your API and how to enable the services. \n"
            ]
        },
        {
            "cell_type": "code",
            "execution_count": null,
            "metadata": {},
            "outputs": [],
            "source": [
                "# ## Ariel Map of Surrey\n",
                "qmplot(longitude, latitude, data = crime, colour = crime_type, size = I(3), darken = .3)\n",
                "# \n",
                "\n",
                "# ## Lets just say you were interested in a specific area (in this example we will use Crawley 002B)\n",
                "# \n",
                "# ## Ariel Map of Crawley 002B\n",
                " geocode(\"Crawley 002B\")\n",
                "# \n",
                "\n",
                "Crawley <- c(long = -0.152210, lat = 51.15813)\n",
                "map <- get_map(Crawley, zoom = 13, scale = 1)\n",
                "ggmap(map)\n",
                "# \n",
                "ggmap(map) +\n",
                "  geom_point(aes(longitude, latitude), data = crime) \n",
                "# \n",
                "# \n",
                "# ## Colour the Crime Type\n",
                "# \n",
                "\n",
                "ggmap(map) +\n",
                "   geom_point(aes(longitude, latitude, colour = crime_type), data = crime) \n",
                "\n",
                "# \n",
                "\n",
                " ggmap(map) +\n",
                "   geom_point(aes(longitude, latitude, size = crime_type, colour = crime_type), data = crime) \n"
            ]
        },
        {
            "cell_type": "markdown",
            "metadata": {},
            "source": [
                "### Binning data\n",
                "\n",
                "Binning, can be thought of as a two-dimensional histogram (shading of the bins take the heights of the bars). \n",
                "\n",
                "Need to convert the sf data.frame geometry column into a data.frame with separate x, y columns \n",
                "\n",
                "How do you separate the coordinates? \n",
                "\n",
                "https://github.com/r-spatial/sf/issues/231 \n"
            ]
        },
        {
            "cell_type": "code",
            "execution_count": null,
            "metadata": {},
            "outputs": [],
            "source": [
                "sfc_as_cols <- function(x, names = c(\"x\",\"y\")) {\n",
                "  stopifnot(inherits(x,\"sf\") && inherits(sf::st_geometry(x),\"sfc_POINT\"))\n",
                "  ret <- sf::st_coordinates(x)\n",
                "  ret <- tibble::as_tibble(ret)\n",
                "  stopifnot(length(names) == raster::ncol(ret))\n",
                "  x <- x[ , !names(x) %in% names]\n",
                "  ret <- setNames(ret,names)\n",
                "  dplyr::bind_cols(x,ret)\n",
                "}\n",
                "\n",
                "sf_seperate <- sfc_as_cols(sf, c(\"lng\", \"lat\")) \n",
                "\n",
                "\n",
                "ggplot(sf_seperate, aes(lng, lat)) +   \n",
                "  annotation_map_tile() +\n",
                "  stat_binhex(bins = 30) +                                           \n",
                "  scale_fill_gradientn(colours = c(\"white\",\"red\"), name = \"Frequency\")   \n",
                "\n",
                "\n",
                "#hexagonal = stat_binhex() \n",
                "#rectangle = stat_bin2d()\n",
                "#heat = stat_density2d()  \n"
            ]
        },
        {
            "cell_type": "markdown",
            "metadata": {},
            "source": [
                "### Interactive Maps; Leaflet\n",
                "\n"
            ]
        },
        {
            "cell_type": "code",
            "execution_count": null,
            "metadata": {},
            "outputs": [],
            "source": [
                "## Subsetting for just ASB \n",
                "asb <- subset(crime, crime_type == \"Anti-social behaviour\")\n",
                "\n",
                "m <- leaflet(data = asb) %>%\n",
                "  addProviderTiles(\"Stamen.Toner\") %>% \n",
                "  addMarkers(lng=~longitude, lat=~latitude, popup=~as.character(location), label = ~as.character(location))\n",
                "m\n"
            ]
        },
        {
            "cell_type": "markdown",
            "metadata": {},
            "source": [
                "\n",
                "\n"
            ]
        }
    ],
    "metadata": {
        "anaconda-cloud": "",
        "kernelspec": {
            "display_name": "R",
            "langauge": "R",
            "name": "ir"
        },
        "language_info": {
            "codemirror_mode": "r",
            "file_extension": ".r",
            "mimetype": "text/x-r-source",
            "name": "R",
            "pygments_lexer": "r",
            "version": "3.4.1"
        }
    },
    "nbformat": 4,
    "nbformat_minor": 1
}
