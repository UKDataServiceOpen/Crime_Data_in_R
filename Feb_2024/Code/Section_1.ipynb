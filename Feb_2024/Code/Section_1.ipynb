{
    "cells": [
        {
            "cell_type": "markdown",
            "metadata": {},
            "source": "\n"
        },
        {
            "cell_type": "code",
            "execution_count": null,
            "metadata": {},
            "outputs": [],
            "source": [
                "knitr::opts_chunk$set(echo = TRUE, eval = TRUE)\n",
                "\n"
            ]
        },
        {
            "cell_type": "markdown",
            "metadata": {},
            "source": [
                "## Intro \n",
                "\n",
                "In this first section I will show you how to read in the data, run some basic exploratory analysis and produce some point maps. \n",
                "\n",
                "## Load pacakges\n",
                "\n",
                "As always the first step is to load the necessary R packages via the library function. If you do not have these packages installed then please follow the instructions in the *Preliminary Task.Rmd* file. \n"
            ]
        },
        {
            "cell_type": "code",
            "execution_count": null,
            "metadata": {},
            "outputs": [],
            "source": [
                "#install.packages(\")\n",
                "\n",
                "# for data reading/manipulation \n",
                "library(dplyr)\n",
                "library(tidyr)\n",
                "library(readr)\n",
                "library(tibble)\n",
                "library(janitor)\n",
                "# for spatial data and gis\n",
                "library(sf)\n",
                "library(ggmap)\n",
                "library(ggplot2)\n",
                "library(ggspatial)\n",
                "library(spdep)\n",
                "library(leaflet) \n",
                "library(RColorBrewer)\n",
                "library(tmap)\n",
                "library(rgdal)\n"
            ]
        },
        {
            "cell_type": "markdown",
            "metadata": {},
            "source": [
                "  \n",
                "## Downloading the crime data \n",
                "\n",
                " We will be using crime data from *https://data.police.uk/*. This is the site for open data about policing and crime in England, Wales and Northern Ireland. You can download street-level crime, outcome, and stop and search data in clear and simple CSV format and explore the API containing detailed crime data and information about individual police forces and neighborhood teams. You can also download data on police activity, and a range of data collected under the police annual data requirement (ADR) including arrests and 101 call handling.\n",
                " \n",
                " We will be using data from 2021-2022 and in order to save time I have included the data in this R  Project under the Data folder. However, if you were interested in how I collected this then you can view the *downloading the data\" doc* word document, In summary this would involve....\n",
                " \n",
                "Select Downloads -> Select December 2021 to December 2022 -> select Surrey and click 'Include Crime Data'. Download and unzip the data into your working directory.\n",
                "\n",
                "Read in just the month of February 2022. \n"
            ]
        },
        {
            "cell_type": "code",
            "execution_count": null,
            "metadata": {},
            "outputs": [],
            "source": [
                "#unzip(file.choose())\n",
                "\n",
                "library(readr)\n",
                "crime <- read_csv(\"~/Documents/Crime_R_Workshop/Crime_Data_in_R/March_2023/Data/crime_data/2022-02/2022-02-surrey-street.csv\") %>% janitor::clean_names()\n"
            ]
        },
        {
            "cell_type": "markdown",
            "metadata": {},
            "source": [
                "WE can use the head() and glimpse() function to explore our data.\n",
                "\n"
            ]
        },
        {
            "cell_type": "code",
            "execution_count": null,
            "metadata": {},
            "outputs": [],
            "source": [
                "#explore variables\n",
                "head(crime)\n",
                "glimpse(crime)\n"
            ]
        },
        {
            "cell_type": "markdown",
            "metadata": {},
            "source": [
                "Points, lines and polygon \n",
                "\n",
                "- Our coordinate variables (the latitude and longitude) are known as point data \n",
                "- The 'location' variable represents the line. This is normally define by a street or junction \n",
                "- The 'lsoa name' represent our polygon (borough, wards, districts etc). LSOA refers to the Lower Layer Super Output Areas which are a unit measure in census geography \n",
                "\n",
                "\n",
                "In this data, the \"crime_type' column contains the general names of each of the different crimes.\n",
                "\n",
                "Using the unique() function lists creates an array of the different possible values in the column.\n"
            ]
        },
        {
            "cell_type": "code",
            "execution_count": null,
            "metadata": {},
            "outputs": [],
            "source": [
                "unique(crime$crime_type)\n",
                "\n"
            ]
        },
        {
            "cell_type": "markdown",
            "metadata": {},
            "source": [
                "Before moving on to some of the more complicated spatial topics, lets create somne frequency tables for each different crime_type.  \n",
                "\n",
                "The table() can be used to create a frequency table for each different Primary.Type of crime.\n",
                "By default, the table is sorted by the category. order() can be used to order the table by count. In this example, we list the top ten crimes by activity.\n"
            ]
        },
        {
            "cell_type": "code",
            "execution_count": null,
            "metadata": {},
            "outputs": [],
            "source": [
                "counts = table(crime$crime_type)\n",
                "\n",
                "counts = counts[order(counts, decreasing=T)]\n",
                "\n",
                "print(counts[1:10])\n"
            ]
        },
        {
            "cell_type": "markdown",
            "metadata": {},
            "source": [
                "Now we hava nice summarised table of all our crime counts. Lets go ahead and plot this to view this a bit better \n",
                "\n"
            ]
        },
        {
            "cell_type": "code",
            "execution_count": null,
            "metadata": {},
            "outputs": [],
            "source": [
                "par(mar = c(5,10,1,1))\n",
                "\n",
                "y = barplot(counts[1:10], horiz=T, las=1, cex.names=0.7, col=\"whitesmoke\")\n",
                " \n",
                "text(1000, y, counts[1:10], pos=4, cex=0.8)\n"
            ]
        },
        {
            "cell_type": "markdown",
            "metadata": {},
            "source": [
                "## Simple Features and Projection methods\n",
                "\n",
                "Simple Features is a common R language, also known as sf, that allow you to handle and manipulate the UoA (points, lines and polyons). Simple Features allows you store spatial objects\n",
                "\n",
                "Features refers to the property that linestring and polygons are built from points by straight line segments. \n",
                "\n",
                "One of the fastest growing packages in this area is [sf](https://github.com/r-spatial/sf), which gives you access to a whole host of features and functions for use with spatial data, including visualisation. html) to spatial data out there. For this exercise, we'll keep things simple, and focus on how to use sf to make spatial data visualisations in combination with ggplot. Should you want to know more, or would like additional resources on using spatial data in R, please do not hesitate to ask!\n",
                "\n",
                "\n",
                "CRS and Projection: \n",
                "\n",
                "CRS are  is a coordinate-based local, regional or global system used to locate geographical entities. A spatial reference system defines a specific map projection, as well as transformations between different spatial reference systems. […] spatial reference systems can be referred to using a SRID integer, including EPSG codes\n",
                "\n",
                "In short \"Projection methods allow us to move move from the 3D to the 2D, CRS allow us to identify specific locations within these \n",
                "\n",
                "There are thousands of CRS, the most common being BNG and the WGS 84 \n",
                "\n",
                "Each crs has an ESPG identifier\n",
                "i.e. the BNG = 27700 (British National Grid)\n",
                "i.e. the WGS 84 is 4326 (World Geodetic System)\n",
                "i.e. the ETRS 1980 = 3035 (European Terrestial Reference System)\n",
                "\n",
                "\n",
                "First step is to transform you ordinary data into an sf object using 'st_as_sf' - which converts our latitude and longitutde to a geometry attribute\n",
                "\n",
                "To recap, sf objects are just data-frames that are collections of spatial objects. Each row is a spatial object (e.g. a polgyon), that may have data associated with it (e.g. its area) and a special geo variable that contains the coordinates\n"
            ]
        },
        {
            "cell_type": "code",
            "execution_count": null,
            "metadata": {},
            "outputs": [],
            "source": [
                "st_crs(crime)   # to check the crs\n",
                "\n",
                "sf <- st_as_sf(crime,                                \n",
                "                      coords = c(\"longitude\", \"latitude\"),\n",
                "                      crs = 4326,     \n",
                "                      na.fail = FALSE)\n",
                "st_crs(sf)\n",
                "\n",
                "glimpse(sf)\n",
                "head(sf)\n"
            ]
        },
        {
            "cell_type": "markdown",
            "metadata": {},
            "source": [
                "Other functions \n",
                "\n",
                "- agr (atribute-geometry-relationship) = character vector. \n",
                "- Specifies for each non-geometry attribute column how it relates to the geometry, and can have one of following values: \"constant\", \"aggregate\", \"identity\". \"constant\" is used for attributes that are constant throughout the geometry (e.g. land use), \"aggregate\" where the attribute is an aggregate value over the geometry (e.g. population density or population count), \"identity\" when the attributes uniquely identifies the geometry of particular \"thing\", such as a building ID or a city name. The default value, NA_agr_, implies we don't know.\n",
                "\n",
                "\n",
                "\n",
                "## Mapping point data \n",
                "\n",
                "Now we have an sf object which contains point-level, spatially sensitive data about Crime in Surrey 2019, We can now create a basic point map of these\n",
                "\n",
                "### Plot the point data\n"
            ]
        },
        {
            "cell_type": "code",
            "execution_count": null,
            "metadata": {},
            "outputs": [],
            "source": [
                "ggplot() + \n",
                "  geom_sf(data = sf)\n"
            ]
        },
        {
            "cell_type": "markdown",
            "metadata": {},
            "source": [
                "### Colour the different crime type\n",
                "\n"
            ]
        },
        {
            "cell_type": "code",
            "execution_count": null,
            "metadata": {},
            "outputs": [],
            "source": [
                "ggplot() + \n",
                "  geom_sf(data = sf, aes(col = crime_type))\n",
                "\n",
                "#### with titles\n",
                "ggplot() + \n",
                "  geom_sf(data = sf, aes(fill = crime_type, col = crime_type)) + \n",
                "  labs(title = \"Crime Count in Surrey\", \n",
                "       subtitle = \"February 2022\", \n",
                "       caption = \"Police Recorded Crime Statistics\")\n"
            ]
        },
        {
            "cell_type": "markdown",
            "metadata": {},
            "source": [
                "### Reference map / base map  \n",
                "\n"
            ]
        },
        {
            "cell_type": "code",
            "execution_count": null,
            "metadata": {},
            "outputs": [],
            "source": [
                "ggplot() + \n",
                "  annotation_map_tile() +\n",
                "  geom_sf(data = sf, aes(col = crime_type))\n"
            ]
        },
        {
            "cell_type": "markdown",
            "metadata": {},
            "source": [
                "### Sub-setting for just ASB \n",
                "\n"
            ]
        },
        {
            "cell_type": "code",
            "execution_count": null,
            "metadata": {},
            "outputs": [],
            "source": [
                "asb <- subset(sf, crime_type == \"Anti-social behaviour\") %>% \n",
                "  select(-c(1, 9, 10))\n",
                "head(asb)\n",
                "\n",
                "\n",
                "ggplot() +\n",
                "  annotation_map_tile() +\n",
                "  geom_sf(data = asb)\n"
            ]
        },
        {
            "cell_type": "markdown",
            "metadata": {},
            "source": [
                "## Activity 1\n",
                "\n",
                "How does this compare to the crime_type 'drugs'?\n",
                "\n",
                "Steps; \n",
                "*1. Subset the data for the those crime types recorded as 'drugs', \n",
                "*2. create this into a new object like we did for ASB and name it 'drugs' \n",
                "*3. Using ggplot plot the point data over a base map (reference map)\n"
            ]
        },
        {
            "cell_type": "code",
            "execution_count": null,
            "metadata": {},
            "outputs": [],
            "source": [
                "#1)\n",
                "subset(sf, ..... ==  .....  )\n",
                "\n",
                "\n",
                "#2) \n",
                "drugs <- subset(sf, ..... == ..... ) \n",
                "\n",
                "\n",
                "#3)\n",
                "ggplot() +\n",
                "  ..............() +\n",
                "  geom_sf(data = .....) \n"
            ]
        },
        {
            "cell_type": "markdown",
            "metadata": {},
            "source": [
                "\n",
                "\n"
            ]
        }
    ],
    "metadata": {
        "anaconda-cloud": "",
        "kernelspec": {
            "display_name": "R",
            "langauge": "R",
            "name": "ir"
        },
        "language_info": {
            "codemirror_mode": "r",
            "file_extension": ".r",
            "mimetype": "text/x-r-source",
            "name": "R",
            "pygments_lexer": "r",
            "version": "3.4.1"
        }
    },
    "nbformat": 4,
    "nbformat_minor": 1
}
