{
    "cells": [
        {
            "cell_type": "markdown",
            "metadata": {},
            "source": [
                "rm(list = ls())\n",
                "\n",
                "\n",
                "## Load pacakges\n"
            ]
        },
        {
            "cell_type": "code",
            "execution_count": null,
            "metadata": {},
            "outputs": [],
            "source": [
                "knitr::opts_chunk$set(echo = TRUE)\n",
                "\n",
                "#install.packages(\")\n",
                "\n",
                "# for data reading/manipulation \n",
                "library(dplyr)\n",
                "library(tidyr)\n",
                "library(readr)\n",
                "library(tibble)\n",
                "library(janitor)\n",
                "# for spatial data and gis\n",
                "library(sf)\n",
                "library(ggmap)\n",
                "library(ggplot2)\n",
                "library(ggspatial)\n",
                "library(spdep)\n",
                "library(leaflet) \n",
                "library(RColorBrewer)\n",
                "library(tmap)\n",
                "library(rgdal)\n"
            ]
        },
        {
            "cell_type": "markdown",
            "metadata": {},
            "source": [
                "  \n",
                "## Downloading the crime data \n",
                "\n",
                " *https://data.police.uk/*. \n",
                "\n",
                "Select August 2020 to August 2021, from Surrey and click 'Include Crime Data'. Download and unzip the data into your working directory.\n",
                "\n",
                "Read in just the month of August 2020. \n"
            ]
        },
        {
            "cell_type": "code",
            "execution_count": null,
            "metadata": {},
            "outputs": [],
            "source": [
                "#unzip(file.choose())\n",
                "crime <- read_csv(\"Data/2020-08/2020-08-surrey-street.csv\") %>% \n",
                "  janitor::clean_names() \n",
                "\n",
                "#explore variables\n",
                "head(crime)\n",
                "glimpse(crime)\n"
            ]
        },
        {
            "cell_type": "markdown",
            "metadata": {},
            "source": [
                "Points, lines and polygon \n",
                "\n",
                "- Our coordinate variables (the latitude and longitude) are known as point data \n",
                "- The 'location' variable represents the line. This is normally define by a street or junction \n",
                "- The 'lsoa name' represent our polygon (borough, wards, districts etc). LSOA refers to the Lower Layer Super Output Areas which are a unit measure in census geography \n",
                "\n",
                "\n",
                "\n",
                "\n",
                "\n",
                "## Simple Features and Projection methods\n",
                "\n",
                "Simple Features is a common R language, also known as sf, that allow you to handle and manipulate the UoA (points, lines and polyons). Simple Features allows you store spatial objects\n",
                "\n",
                "Features refers to the property that linestring and polygons are built from points by straight line segments. \n",
                "\n",
                "One of the fastest growing packages in this area is [sf](https://github.com/r-spatial/sf), which gives you access to a whole host of features and functions for use with spatial data, including visualisation. html) to spatial data out there. For this exercise, we'll keep things simple, and focus on how to use sf to make spatial data visualisations in combination with ggplot. Should you want to know more, or would like additional resources on using spatial data in R, please do not hesitate to ask!\n",
                "\n",
                "\n",
                "CRS and Projection: \n",
                "\n",
                "CRS are  is a coordinate-based local, regional or global system used to locate geographical entities. A spatial reference system defines a specific map projection, as well as transformations between different spatial reference systems. […] spatial reference systems can be referred to using a SRID integer, including EPSG codes\n",
                "\n",
                "In short \"Projection methods allow us to move move from the 3D to the 2D, CRS allow us to identify specific locations within these \n",
                "\n",
                "There are thousands of CRS, the most common being BNG and the WGS 84 \n",
                "\n",
                "Each crs has an ESPG identifier\n",
                "i.e. the BNG = 27700 (British National Grid)\n",
                "i.e. the WGS 84 is 4326 (World Geodetic System)\n",
                "i.e. the ETRS 1980 = 3035 (European Terrestial Reference System)\n",
                "\n",
                "\n",
                "First step is to transform you ordinary data into an sf object using 'st_as_sf' - which converts our latitude and longitutde to a geometry attribute\n",
                "\n",
                "To recap, sf objects are just data-frames that are collections of spatial objects. Each row is a spatial object (e.g. a polgyon), that may have data associated with it (e.g. its area) and a special geo variable that contains the coordinates\n"
            ]
        },
        {
            "cell_type": "code",
            "execution_count": null,
            "metadata": {},
            "outputs": [],
            "source": [
                "st_crs(crime)   # to check the crs\n",
                "\n",
                "sf <- st_as_sf(crime,                                \n",
                "                      coords = c(\"longitude\", \"latitude\"),\n",
                "                      crs = 4326,     \n",
                "                      na.fail = FALSE)\n",
                "st_crs(sf)\n",
                "\n",
                "glimpse(sf)\n",
                "head(sf)\n"
            ]
        },
        {
            "cell_type": "markdown",
            "metadata": {},
            "source": [
                "Other functions \n",
                "\n",
                "- agr (atribute-geometry-relationship) = character vector. \n",
                "- Specifies for each non-geometry attribute column how it relates to the geometry, and can have one of following values: \"constant\", \"aggregate\", \"identity\". \"constant\" is used for attributes that are constant throughout the geometry (e.g. land use), \"aggregate\" where the attribute is an aggregate value over the geometry (e.g. population density or population count), \"identity\" when the attributes uniquely identifies the geometry of particular \"thing\", such as a building ID or a city name. The default value, NA_agr_, implies we don't know.\n",
                "\n",
                "\n",
                "\n",
                "## Mapping point data \n",
                "\n",
                "Now we have an sf object which contains point-level, spatially sensitive data about Crime in Surrey 2019, We can now create a basic point map of these\n"
            ]
        },
        {
            "cell_type": "code",
            "execution_count": null,
            "metadata": {},
            "outputs": [],
            "source": [
                "#### Plot the point data\n",
                "ggplot() + \n",
                "  geom_sf(data = sf)\n",
                "\n",
                "#### Colour the different crime type\n",
                "ggplot() + \n",
                "  geom_sf(data = sf, aes(col = crime_type))\n",
                "\n",
                "#### Reference map / base map  \n",
                "ggplot() + \n",
                "  annotation_map_tile() +\n",
                "  geom_sf(data = sf, aes(col = crime_type))\n"
            ]
        },
        {
            "cell_type": "markdown",
            "metadata": {},
            "source": [
                "\n",
                "\n"
            ]
        },
        {
            "cell_type": "code",
            "execution_count": null,
            "metadata": {},
            "outputs": [],
            "source": [
                "#### Sub-setting for just ASB \n",
                "asb <- subset(sf, crime_type == \"Anti-social behaviour\") %>% \n",
                "  select(-c(1, 9, 10))\n",
                "head(asb)\n",
                "\n",
                "\n",
                "asb_map <- ggplot() +\n",
                "  annotation_map_tile() +\n",
                "  geom_sf(data = asb)\n"
            ]
        },
        {
            "cell_type": "markdown",
            "metadata": {},
            "source": [
                "## Activity 1\n",
                "\n",
                "How does this compare to the crime_type 'drugs'?\n",
                "\n",
                "Steps; \n",
                "1. Subset the data for the those crime types recorded as 'drugs', \n",
                "2. create this into a new object like we did for ASB and name it 'drugs' \n",
                "3. Using ggplot plot the point data over a base map (reference map)\n"
            ]
        },
        {
            "cell_type": "code",
            "execution_count": null,
            "metadata": {},
            "outputs": [],
            "source": [
                "#1)\n",
                "subset(sf, ..... ==  .....  )\n",
                "\n",
                "\n",
                "#2) \n",
                "drugs <- subset(sf, ..... == ..... ) \n",
                "\n",
                "\n",
                "#3)\n",
                "ggplot() +\n",
                "  ..............() +\n",
                "  geom_sf(data = .....) \n"
            ]
        },
        {
            "cell_type": "markdown",
            "metadata": {},
            "source": [
                "\n",
                "\n"
            ]
        }
    ],
    "metadata": {
        "anaconda-cloud": "",
        "kernelspec": {
            "display_name": "R",
            "langauge": "R",
            "name": "ir"
        },
        "language_info": {
            "codemirror_mode": "r",
            "file_extension": ".r",
            "mimetype": "text/x-r-source",
            "name": "R",
            "pygments_lexer": "r",
            "version": "3.4.1"
        }
    },
    "nbformat": 4,
    "nbformat_minor": 1
}
